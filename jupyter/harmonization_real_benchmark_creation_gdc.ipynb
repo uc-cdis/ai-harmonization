{
 "cells": [
  {
   "cell_type": "markdown",
   "id": "0",
   "metadata": {},
   "source": [
    "# Create Harmonization Benchmark To GDC Data Dictionary"
   ]
  },
  {
   "cell_type": "markdown",
   "id": "1",
   "metadata": {},
   "source": [
    "This notebook utilizes data from the following paper:\n",
    "\n",
    "* Yurong Liu, Eduardo H. M. Pena, Aécio Santos, Eden Wu, and Juliana Freire. 2025. Magneto: Combining Small and Large Language Models for Schema Matching. Proc. VLDB Endow. 18, 8 (April 2025), 2681–2694. https://doi.org/10.14778/3742728.3742757"
   ]
  },
  {
   "cell_type": "markdown",
   "id": "2",
   "metadata": {},
   "source": [
    "## Setup"
   ]
  },
  {
   "cell_type": "code",
   "execution_count": null,
   "id": "3",
   "metadata": {},
   "outputs": [],
   "source": [
    "# If you are actively working on related *.py files and would like changes to reload automatically into this notebook\n",
    "%load_ext autoreload\n",
    "%autoreload 2"
   ]
  },
  {
   "cell_type": "code",
   "execution_count": null,
   "id": "4",
   "metadata": {},
   "outputs": [],
   "source": [
    "import os"
   ]
  },
  {
   "cell_type": "markdown",
   "id": "5",
   "metadata": {},
   "source": [
    "## Get benchmark data"
   ]
  },
  {
   "cell_type": "markdown",
   "id": "6",
   "metadata": {},
   "source": [
    "Set input and output directories"
   ]
  },
  {
   "cell_type": "code",
   "execution_count": null,
   "id": "7",
   "metadata": {},
   "outputs": [],
   "source": [
    "input_dir = os.path.abspath(\n",
    "    \"../datasets/harmonization_benchmark_real_GDC/inputs\"\n",
    ")\n",
    "\n",
    "output_dir = os.path.abspath(\n",
    "    \"../datasets/harmonization_benchmark_real_GDC/outputs\"\n",
    ")"
   ]
  },
  {
   "cell_type": "markdown",
   "id": "8",
   "metadata": {},
   "source": [
    "Get GDC Data Dictionary as a target model"
   ]
  },
  {
   "cell_type": "code",
   "execution_count": null,
   "id": "9",
   "metadata": {},
   "outputs": [],
   "source": [
    "url = \"https://api.gdc.cancer.gov/v0/submission/_dictionary/_all\"\n",
    "target_model_path = os.path.abspath(input_dir) + \"/target_model_GDC.json\"\n",
    "os.makedirs(os.path.dirname(target_model_path), exist_ok=True)\n",
    "!wget -q -O \"{target_model_path}\" \"{url}\""
   ]
  },
  {
   "cell_type": "markdown",
   "id": "10",
   "metadata": {},
   "source": [
    "Get 10 source CSVs from the paper as a source tables"
   ]
  },
  {
   "cell_type": "code",
   "execution_count": null,
   "id": "11",
   "metadata": {},
   "outputs": [],
   "source": [
    "source_tables = [\n",
    "    (\"1MyQOryVm3S0iBz3-uqAC_bPqZjMtS6IA\", \"Cao.csv\"), # pragma: allowlist secret\n",
    "    (\"1N3rbTHtnVDe19kMNei0opy_g-8Hr_Hl5\", \"Clark.csv\"), # pragma: allowlist secret\n",
    "    (\"1Ml-lY2LnAwpFpgHGeE7R2qqWRxBVLso9\", \"Dou.csv\"), # pragma: allowlist secret\n",
    "    (\"1Nac7mZR_reZPdK5zghI5Y3pEKq8VPTRQ\", \"Gilette.csv\"), # pragma: allowlist secret\n",
    "    (\"1NIFT5dHcguZ1vzbQ_qz1tIhNDx-QENSe\", \"Huang.csv\"), # pragma: allowlist secret\n",
    "    (\"1MjNgXn-peUUaSadqIcWlqszECgxw7-ux\", \"Krug.csv\"), # pragma: allowlist secret\n",
    "    (\"1ND-qu_62kGtz98O23AMFId4SHQX5GPzJ\", \"McDermott.csv\"), # pragma: allowlist secret\n",
    "    (\"1NE13PtlXR6w2wRXyZrY6ar2lUXeLUw1-\", \"Satpathy.csv\"), # pragma: allowlist secret\n",
    "    (\"1MxEwZbz-31bQqM8ECIKnrClSQNTNwwpY\", \"Vasaikar.csv\"), # pragma: allowlist secret\n",
    "    (\"1NgEsOT7jPdCll0Q3iQ_tuAMqe8L2XFBE\", \"Wang.csv\") # pragma: allowlist secret\n",
    "]\n",
    "\n",
    "source_tables_path = os.path.abspath(input_dir) + \"/source_tables\"\n",
    "os.makedirs(source_tables_path, exist_ok=True)\n",
    "\n",
    "\n",
    "for id, name in source_tables:\n",
    "    url = f\"https://drive.google.com/uc?export=download&id={id}\"\n",
    "    !wget -q --no-check-certificate \"{url}\" -O \"{source_tables_path}/{name}\""
   ]
  },
  {
   "cell_type": "markdown",
   "id": "12",
   "metadata": {},
   "source": [
    "Get 10 ground truth mappings CSVs from the paper as source mappings"
   ]
  },
  {
   "cell_type": "code",
   "execution_count": null,
   "id": "13",
   "metadata": {},
   "outputs": [],
   "source": [
    "source_mappings = [\n",
    "    (\"1c64T1cq09T6WmOIIMGRO6yglIRBDDaYP\", \"Cao.csv\"), # pragma: allowlist secret\n",
    "    (\"10pzRiZWuhE_jfNAm7D8XzKzM7ebJgbyj\", \"Clark.csv\"), # pragma: allowlist secret\n",
    "    (\"1vqL5HhFT6SxptQu7FyLidJnn2VKb4UMg\", \"Dou.csv\"), # pragma: allowlist secret\n",
    "    (\"1S0Fe2YlcqNhO1aFMwnePLjKVm1LPVDL8\", \"Gilette.csv\"), # pragma: allowlist secret\n",
    "    (\"1Jy3FIE8jcrNiNlyXsoQIo86nfGVSeAsL\", \"Huang.csv\"), # pragma: allowlist secret\n",
    "    (\"1VS27jhKjNjxPnxn4SJt3OcvbMItYSfG2\", \"Krug.csv\"), # pragma: allowlist secret\n",
    "    (\"107WFZ_-kCY-Yh9MGn1Fx1N93b23be27D\", \"McDermott.csv\"), # pragma: allowlist secret\n",
    "    (\"1JY5fo4Tg3b_bgp-6JHPqweCiunjpWqPe\", \"Satpathy.csv\"), # pragma: allowlist secret\n",
    "    (\"1qZ_kOz9-iC8IzMSvdRHhZIc-mjrU-aSk\", \"Vasaikar.csv\"), # pragma: allowlist secret\n",
    "    (\"1N8h2qwWBy8IO7QMx9ahkUE6vuhDdT6El\", \"Wang.csv\") # pragma: allowlist secret\n",
    "]\n",
    "\n",
    "source_mappings_path = os.path.abspath(input_dir) + \"/source_mappings\"\n",
    "os.makedirs(source_mappings_path, exist_ok=True)\n",
    "\n",
    "\n",
    "for id, name in source_mappings:\n",
    "    url = f\"https://drive.google.com/uc?export=download&id={id}\"\n",
    "    !wget -q --no-check-certificate \"{url}\" -O \"{source_mappings_path}/{name}\""
   ]
  }
 ],
 "metadata": {
  "kernelspec": {
   "display_name": "harmonization",
   "language": "python",
   "name": "python3"
  },
  "language_info": {
   "codemirror_mode": {
    "name": "ipython",
    "version": 3
   },
   "file_extension": ".py",
   "mimetype": "text/x-python",
   "name": "python",
   "nbconvert_exporter": "python",
   "pygments_lexer": "ipython3",
   "version": "3.12.11"
  }
 },
 "nbformat": 4,
 "nbformat_minor": 5
}
